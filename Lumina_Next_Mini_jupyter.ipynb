{
  "cells": [
    {
      "cell_type": "markdown",
      "metadata": {
        "id": "view-in-github"
      },
      "source": [
        "[![Open In Colab](https://colab.research.google.com/assets/colab-badge.svg)](https://colab.research.google.com/github/camenduru/GRM-jupyter/blob/main/GRM_jupyter.ipynb)"
      ]
    },
    {
      "cell_type": "code",
      "execution_count": null,
      "metadata": {
        "id": "VjYy0F2gZIPR"
      },
      "outputs": [],
      "source": [
        "%cd /content\n",
        "!git clone -b no_flash_attn https://github.com/camenduru/Lumina-T2X\n",
        "\n",
        "# !pip install -q flash_attn==2.5.9.post1 --no-build-isolation\n",
        "!pip install -q https://github.com/camenduru/wheels/releases/download/colab3/flash_attn-1.0.9-cp310-cp310-linux_x86_64.whl\n",
        "!pip install -q git+https://github.com/camenduru/Lumina-T2X@dev\n",
        "\n",
        "!apt -y install -qq aria2\n",
        "!aria2c --console-log-level=error -c -x 16 -s 16 -k 1M  https://huggingface.co/ckpt/Lumina-Next-SFT/resolve/main/consolidated_ema.00-of-01.safetensors -d /content/Lumina-T2X/models -o consolidated_ema.00-of-01.safetensors\n",
        "!aria2c --console-log-level=error -c -x 16 -s 16 -k 1M  https://huggingface.co/ckpt/Lumina-Next-SFT/resolve/main/model_args.pth -d /content/Lumina-T2X/models -o model_args.pth\n",
        "\n",
        "%cd /content/Lumina-T2X/lumina_next_t2i_mini\n",
        "!python demo.py --ckpt /content/Lumina-T2X/models --ema"
      ]
    }
  ],
  "metadata": {
    "accelerator": "GPU",
    "colab": {
      "gpuType": "T4",
      "provenance": []
    },
    "kernelspec": {
      "display_name": "Python 3",
      "name": "python3"
    },
    "language_info": {
      "name": "python"
    }
  },
  "nbformat": 4,
  "nbformat_minor": 0
}
